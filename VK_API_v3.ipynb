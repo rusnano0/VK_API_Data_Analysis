{
 "cells": [
  {
   "cell_type": "markdown",
   "metadata": {},
   "source": [
    "## Анализ  CSV данных полученных и обработанных от API Vkontakte"
   ]
  },
  {
   "cell_type": "markdown",
   "metadata": {},
   "source": [
    "#### Импортируем модуль Pandas"
   ]
  },
  {
   "cell_type": "code",
   "execution_count": 1,
   "metadata": {
    "collapsed": true
   },
   "outputs": [],
   "source": [
    "import pandas as pd"
   ]
  },
  {
   "cell_type": "markdown",
   "metadata": {},
   "source": [
    "### Основные типы данных в Pandas"
   ]
  },
  {
   "cell_type": "markdown",
   "metadata": {},
   "source": [
    "#### DataFrame"
   ]
  },
  {
   "cell_type": "markdown",
   "metadata": {},
   "source": [
    "#### DataFrame можно создать таким образом"
   ]
  },
  {
   "cell_type": "code",
   "execution_count": 2,
   "metadata": {
    "collapsed": true
   },
   "outputs": [],
   "source": [
    "vkcsv = pd.read_csv('file2.csv', sep = ';')\n",
    "vkcsv_df = pd.DataFrame(vkcsv)"
   ]
  },
  {
   "cell_type": "code",
   "execution_count": 3,
   "metadata": {},
   "outputs": [
    {
     "data": {
      "text/plain": [
       "pandas.core.frame.DataFrame"
      ]
     },
     "execution_count": 3,
     "metadata": {},
     "output_type": "execute_result"
    }
   ],
   "source": [
    "type(vkcsv)"
   ]
  },
  {
   "cell_type": "code",
   "execution_count": 4,
   "metadata": {},
   "outputs": [
    {
     "data": {
      "text/plain": [
       "pandas.core.frame.DataFrame"
      ]
     },
     "execution_count": 4,
     "metadata": {},
     "output_type": "execute_result"
    }
   ],
   "source": [
    "type(vkcsv_df)"
   ]
  },
  {
   "cell_type": "markdown",
   "metadata": {},
   "source": [
    "##### Или даже, например вот так:"
   ]
  },
  {
   "cell_type": "code",
   "execution_count": 5,
   "metadata": {},
   "outputs": [
    {
     "data": {
      "text/html": [
       "<div>\n",
       "<style>\n",
       "    .dataframe thead tr:only-child th {\n",
       "        text-align: right;\n",
       "    }\n",
       "\n",
       "    .dataframe thead th {\n",
       "        text-align: left;\n",
       "    }\n",
       "\n",
       "    .dataframe tbody tr th {\n",
       "        vertical-align: top;\n",
       "    }\n",
       "</style>\n",
       "<table border=\"1\" class=\"dataframe\">\n",
       "  <thead>\n",
       "    <tr style=\"text-align: right;\">\n",
       "      <th></th>\n",
       "      <th>AAA</th>\n",
       "      <th>BBB</th>\n",
       "      <th>CCC</th>\n",
       "    </tr>\n",
       "  </thead>\n",
       "  <tbody>\n",
       "    <tr>\n",
       "      <th>0</th>\n",
       "      <td>4</td>\n",
       "      <td>10</td>\n",
       "      <td>100</td>\n",
       "    </tr>\n",
       "    <tr>\n",
       "      <th>1</th>\n",
       "      <td>5</td>\n",
       "      <td>20</td>\n",
       "      <td>50</td>\n",
       "    </tr>\n",
       "    <tr>\n",
       "      <th>2</th>\n",
       "      <td>6</td>\n",
       "      <td>30</td>\n",
       "      <td>-30</td>\n",
       "    </tr>\n",
       "    <tr>\n",
       "      <th>3</th>\n",
       "      <td>7</td>\n",
       "      <td>40</td>\n",
       "      <td>-50</td>\n",
       "    </tr>\n",
       "  </tbody>\n",
       "</table>\n",
       "</div>"
      ],
      "text/plain": [
       "   AAA  BBB  CCC\n",
       "0    4   10  100\n",
       "1    5   20   50\n",
       "2    6   30  -30\n",
       "3    7   40  -50"
      ]
     },
     "execution_count": 5,
     "metadata": {},
     "output_type": "execute_result"
    }
   ],
   "source": [
    "test_df = pd.DataFrame(\n",
    "    {'AAA' : [4,5,6,7], 'BBB' : [10,20,30,40],'CCC' : [100,50,-30,-50]}\n",
    ")\n",
    "test_df"
   ]
  },
  {
   "cell_type": "markdown",
   "metadata": {},
   "source": [
    "#### Series"
   ]
  },
  {
   "cell_type": "code",
   "execution_count": 6,
   "metadata": {},
   "outputs": [
    {
     "data": {
      "text/plain": [
       "0    4\n",
       "1    5\n",
       "2    6\n",
       "3    7\n",
       "Name: AAA, dtype: int64"
      ]
     },
     "execution_count": 6,
     "metadata": {},
     "output_type": "execute_result"
    }
   ],
   "source": [
    "test_df['AAA']"
   ]
  },
  {
   "cell_type": "code",
   "execution_count": 7,
   "metadata": {},
   "outputs": [
    {
     "data": {
      "text/plain": [
       "pandas.core.series.Series"
      ]
     },
     "execution_count": 7,
     "metadata": {},
     "output_type": "execute_result"
    }
   ],
   "source": [
    "type(test_df['AAA'])"
   ]
  },
  {
   "cell_type": "markdown",
   "metadata": {},
   "source": [
    "#### Наглядная разница между Series и DataFrame"
   ]
  },
  {
   "cell_type": "code",
   "execution_count": 8,
   "metadata": {},
   "outputs": [
    {
     "data": {
      "text/plain": [
       "0    4\n",
       "1    5\n",
       "2    6\n",
       "3    7\n",
       "Name: AAA, dtype: int64"
      ]
     },
     "execution_count": 8,
     "metadata": {},
     "output_type": "execute_result"
    }
   ],
   "source": [
    "test_df['AAA']"
   ]
  },
  {
   "cell_type": "code",
   "execution_count": 9,
   "metadata": {},
   "outputs": [
    {
     "data": {
      "text/html": [
       "<div>\n",
       "<style>\n",
       "    .dataframe thead tr:only-child th {\n",
       "        text-align: right;\n",
       "    }\n",
       "\n",
       "    .dataframe thead th {\n",
       "        text-align: left;\n",
       "    }\n",
       "\n",
       "    .dataframe tbody tr th {\n",
       "        vertical-align: top;\n",
       "    }\n",
       "</style>\n",
       "<table border=\"1\" class=\"dataframe\">\n",
       "  <thead>\n",
       "    <tr style=\"text-align: right;\">\n",
       "      <th></th>\n",
       "      <th>AAA</th>\n",
       "      <th>BBB</th>\n",
       "    </tr>\n",
       "  </thead>\n",
       "  <tbody>\n",
       "    <tr>\n",
       "      <th>0</th>\n",
       "      <td>4</td>\n",
       "      <td>10</td>\n",
       "    </tr>\n",
       "    <tr>\n",
       "      <th>1</th>\n",
       "      <td>5</td>\n",
       "      <td>20</td>\n",
       "    </tr>\n",
       "    <tr>\n",
       "      <th>2</th>\n",
       "      <td>6</td>\n",
       "      <td>30</td>\n",
       "    </tr>\n",
       "    <tr>\n",
       "      <th>3</th>\n",
       "      <td>7</td>\n",
       "      <td>40</td>\n",
       "    </tr>\n",
       "  </tbody>\n",
       "</table>\n",
       "</div>"
      ],
      "text/plain": [
       "   AAA  BBB\n",
       "0    4   10\n",
       "1    5   20\n",
       "2    6   30\n",
       "3    7   40"
      ]
     },
     "execution_count": 9,
     "metadata": {},
     "output_type": "execute_result"
    }
   ],
   "source": [
    "test_df[['AAA', 'BBB']]"
   ]
  },
  {
   "cell_type": "markdown",
   "metadata": {
    "collapsed": true
   },
   "source": [
    "## Переходим к анализу и работе с созданным CSV"
   ]
  },
  {
   "cell_type": "markdown",
   "metadata": {},
   "source": [
    "#### Создаем DataFrame из CSV файла\n",
    "- Чтобы прочесть данные из csv файла, используем функцию read_csv и передаем ему название файла.\n",
    "- В случае возникновения ошибок, важно передавать разделитель. \n",
    "- parse_dates=True указывает, что даты необходимо получить в видео объекта datetime, \n",
    "- index_col указывает на столбец из которого мы создаем индекс."
   ]
  },
  {
   "cell_type": "code",
   "execution_count": 10,
   "metadata": {
    "collapsed": true
   },
   "outputs": [],
   "source": [
    "df = pd.read_csv('file2.csv', parse_dates=True, sep=';', index_col='date')"
   ]
  },
  {
   "cell_type": "markdown",
   "metadata": {},
   "source": [
    "#### Проверяем образец полученных данных\n",
    "- Обращение df.head(10), помогает нам увидеть образец полученных данных\n",
    "- По умолчанию показывается 5 строк, можно в скобках указать необходимое количество."
   ]
  },
  {
   "cell_type": "code",
   "execution_count": 11,
   "metadata": {},
   "outputs": [
    {
     "data": {
      "text/html": [
       "<div>\n",
       "<style>\n",
       "    .dataframe thead tr:only-child th {\n",
       "        text-align: right;\n",
       "    }\n",
       "\n",
       "    .dataframe thead th {\n",
       "        text-align: left;\n",
       "    }\n",
       "\n",
       "    .dataframe tbody tr th {\n",
       "        vertical-align: top;\n",
       "    }\n",
       "</style>\n",
       "<table border=\"1\" class=\"dataframe\">\n",
       "  <thead>\n",
       "    <tr style=\"text-align: right;\">\n",
       "      <th></th>\n",
       "      <th>id</th>\n",
       "      <th>year</th>\n",
       "      <th>month</th>\n",
       "      <th>day</th>\n",
       "      <th>weekday</th>\n",
       "      <th>time</th>\n",
       "      <th>likes</th>\n",
       "      <th>reposts</th>\n",
       "      <th>views</th>\n",
       "      <th>comments</th>\n",
       "      <th>text</th>\n",
       "      <th>photos</th>\n",
       "      <th>videos</th>\n",
       "      <th>docs</th>\n",
       "      <th>link</th>\n",
       "    </tr>\n",
       "    <tr>\n",
       "      <th>date</th>\n",
       "      <th></th>\n",
       "      <th></th>\n",
       "      <th></th>\n",
       "      <th></th>\n",
       "      <th></th>\n",
       "      <th></th>\n",
       "      <th></th>\n",
       "      <th></th>\n",
       "      <th></th>\n",
       "      <th></th>\n",
       "      <th></th>\n",
       "      <th></th>\n",
       "      <th></th>\n",
       "      <th></th>\n",
       "      <th></th>\n",
       "    </tr>\n",
       "  </thead>\n",
       "  <tbody>\n",
       "    <tr>\n",
       "      <th>2017-07-14</th>\n",
       "      <td>5157</td>\n",
       "      <td>2017</td>\n",
       "      <td>July</td>\n",
       "      <td>14</td>\n",
       "      <td>Friday</td>\n",
       "      <td>23</td>\n",
       "      <td>21</td>\n",
       "      <td>2</td>\n",
       "      <td>6948</td>\n",
       "      <td>0</td>\n",
       "      <td>У тебя есть [club132837703|Смекалочка ?] 👈 \\n ...</td>\n",
       "      <td>NaN</td>\n",
       "      <td>NaN</td>\n",
       "      <td>[{'16406182_1196042793845155_18837793218148433...</td>\n",
       "      <td>https://vk.com/wall-143503361_5157</td>\n",
       "    </tr>\n",
       "    <tr>\n",
       "      <th>2017-07-14</th>\n",
       "      <td>5156</td>\n",
       "      <td>2017</td>\n",
       "      <td>July</td>\n",
       "      <td>14</td>\n",
       "      <td>Friday</td>\n",
       "      <td>23</td>\n",
       "      <td>216</td>\n",
       "      <td>70</td>\n",
       "      <td>10467</td>\n",
       "      <td>0</td>\n",
       "      <td>Подборка видео по ООП \\n \\n1. Инкапсуляция \\n2...</td>\n",
       "      <td>NaN</td>\n",
       "      <td>[{'Инкапсуляция': 'https://vk.com/video-545303...</td>\n",
       "      <td>NaN</td>\n",
       "      <td>https://vk.com/wall-143503361_5156</td>\n",
       "    </tr>\n",
       "    <tr>\n",
       "      <th>2017-07-14</th>\n",
       "      <td>5154</td>\n",
       "      <td>2017</td>\n",
       "      <td>July</td>\n",
       "      <td>14</td>\n",
       "      <td>Friday</td>\n",
       "      <td>22</td>\n",
       "      <td>188</td>\n",
       "      <td>0</td>\n",
       "      <td>18265</td>\n",
       "      <td>0</td>\n",
       "      <td>NaN</td>\n",
       "      <td>NaN</td>\n",
       "      <td>NaN</td>\n",
       "      <td>NaN</td>\n",
       "      <td>https://vk.com/wall-143503361_5154</td>\n",
       "    </tr>\n",
       "    <tr>\n",
       "      <th>2017-07-14</th>\n",
       "      <td>5151</td>\n",
       "      <td>2017</td>\n",
       "      <td>July</td>\n",
       "      <td>14</td>\n",
       "      <td>Friday</td>\n",
       "      <td>21</td>\n",
       "      <td>187</td>\n",
       "      <td>67</td>\n",
       "      <td>15379</td>\n",
       "      <td>0</td>\n",
       "      <td>Less \\n \\nLess. Урок 1. Подключение less и при...</td>\n",
       "      <td>NaN</td>\n",
       "      <td>[{'Less. Урок 1. Подключение less и принцип ег...</td>\n",
       "      <td>NaN</td>\n",
       "      <td>https://vk.com/wall-143503361_5151</td>\n",
       "    </tr>\n",
       "    <tr>\n",
       "      <th>2017-07-14</th>\n",
       "      <td>5150</td>\n",
       "      <td>2017</td>\n",
       "      <td>July</td>\n",
       "      <td>14</td>\n",
       "      <td>Friday</td>\n",
       "      <td>21</td>\n",
       "      <td>239</td>\n",
       "      <td>73</td>\n",
       "      <td>16261</td>\n",
       "      <td>0</td>\n",
       "      <td>Python для НЕ Начинающих \\n \\n1.Python для НЕ ...</td>\n",
       "      <td>NaN</td>\n",
       "      <td>[{'1.Python для НЕ Начинающих - Рекурсия: Сумм...</td>\n",
       "      <td>NaN</td>\n",
       "      <td>https://vk.com/wall-143503361_5150</td>\n",
       "    </tr>\n",
       "  </tbody>\n",
       "</table>\n",
       "</div>"
      ],
      "text/plain": [
       "              id  year month  day weekday  time  likes  reposts  views  \\\n",
       "date                                                                     \n",
       "2017-07-14  5157  2017  July   14  Friday    23     21        2   6948   \n",
       "2017-07-14  5156  2017  July   14  Friday    23    216       70  10467   \n",
       "2017-07-14  5154  2017  July   14  Friday    22    188        0  18265   \n",
       "2017-07-14  5151  2017  July   14  Friday    21    187       67  15379   \n",
       "2017-07-14  5150  2017  July   14  Friday    21    239       73  16261   \n",
       "\n",
       "            comments                                               text  \\\n",
       "date                                                                      \n",
       "2017-07-14         0  У тебя есть [club132837703|Смекалочка ?] 👈 \\n ...   \n",
       "2017-07-14         0  Подборка видео по ООП \\n \\n1. Инкапсуляция \\n2...   \n",
       "2017-07-14         0                                                NaN   \n",
       "2017-07-14         0  Less \\n \\nLess. Урок 1. Подключение less и при...   \n",
       "2017-07-14         0  Python для НЕ Начинающих \\n \\n1.Python для НЕ ...   \n",
       "\n",
       "           photos                                             videos  \\\n",
       "date                                                                   \n",
       "2017-07-14    NaN                                                NaN   \n",
       "2017-07-14    NaN  [{'Инкапсуляция': 'https://vk.com/video-545303...   \n",
       "2017-07-14    NaN                                                NaN   \n",
       "2017-07-14    NaN  [{'Less. Урок 1. Подключение less и принцип ег...   \n",
       "2017-07-14    NaN  [{'1.Python для НЕ Начинающих - Рекурсия: Сумм...   \n",
       "\n",
       "                                                         docs  \\\n",
       "date                                                            \n",
       "2017-07-14  [{'16406182_1196042793845155_18837793218148433...   \n",
       "2017-07-14                                                NaN   \n",
       "2017-07-14                                                NaN   \n",
       "2017-07-14                                                NaN   \n",
       "2017-07-14                                                NaN   \n",
       "\n",
       "                                          link  \n",
       "date                                            \n",
       "2017-07-14  https://vk.com/wall-143503361_5157  \n",
       "2017-07-14  https://vk.com/wall-143503361_5156  \n",
       "2017-07-14  https://vk.com/wall-143503361_5154  \n",
       "2017-07-14  https://vk.com/wall-143503361_5151  \n",
       "2017-07-14  https://vk.com/wall-143503361_5150  "
      ]
     },
     "execution_count": 11,
     "metadata": {},
     "output_type": "execute_result"
    }
   ],
   "source": [
    "df.head()"
   ]
  },
  {
   "cell_type": "markdown",
   "metadata": {},
   "source": [
    "#### Создаем сводную статистику по нужным данным\n",
    "Используя функцию describe(), мы получим\n",
    "    - count - Количество записей\n",
    "    - mean - Среднее значение\n",
    "    - std - Выборочное стандартное отклонение\n",
    "    - 25, 50, 75 % - Квантиль\n",
    "    - max - Максимальное значение\n",
    "    - min - Минимальное значение"
   ]
  },
  {
   "cell_type": "markdown",
   "metadata": {},
   "source": [
    "#### Создадим переменные и выведем данные со сводной статистикой:"
   ]
  },
  {
   "cell_type": "markdown",
   "metadata": {},
   "source": [
    "####  По количеству лайков"
   ]
  },
  {
   "cell_type": "code",
   "execution_count": 12,
   "metadata": {},
   "outputs": [
    {
     "data": {
      "text/plain": [
       "count       290.000000\n",
       "mean       4737.182759\n",
       "std       14680.992843\n",
       "min          21.000000\n",
       "25%        2209.250000\n",
       "50%        3366.500000\n",
       "75%        4329.750000\n",
       "max      241725.000000\n",
       "Name: likes, dtype: float64"
      ]
     },
     "execution_count": 12,
     "metadata": {},
     "output_type": "execute_result"
    }
   ],
   "source": [
    "likes_summary = df['likes'].describe()\n",
    "likes_summary"
   ]
  },
  {
   "cell_type": "markdown",
   "metadata": {},
   "source": [
    "####  По количеству репостов"
   ]
  },
  {
   "cell_type": "code",
   "execution_count": 13,
   "metadata": {},
   "outputs": [
    {
     "data": {
      "text/plain": [
       "count     290.000000\n",
       "mean      236.003448\n",
       "std       240.675470\n",
       "min         0.000000\n",
       "25%       106.250000\n",
       "50%       168.000000\n",
       "75%       284.750000\n",
       "max      2214.000000\n",
       "Name: reposts, dtype: float64"
      ]
     },
     "execution_count": 13,
     "metadata": {},
     "output_type": "execute_result"
    }
   ],
   "source": [
    "reposts_summary = df['reposts'].describe()\n",
    "reposts_summary"
   ]
  },
  {
   "cell_type": "markdown",
   "metadata": {},
   "source": [
    "##### Допустим, нам нужно только за последние 10 постов, получить такие данные:"
   ]
  },
  {
   "cell_type": "code",
   "execution_count": 14,
   "metadata": {},
   "outputs": [
    {
     "data": {
      "text/plain": [
       "count     10.00000\n",
       "mean      61.80000\n",
       "std       38.82668\n",
       "min        0.00000\n",
       "25%       43.75000\n",
       "50%       71.50000\n",
       "75%       78.25000\n",
       "max      125.00000\n",
       "Name: reposts, dtype: float64"
      ]
     },
     "execution_count": 14,
     "metadata": {},
     "output_type": "execute_result"
    }
   ],
   "source": [
    "last_reposts_summary = df['reposts'][0:10].describe()\n",
    "last_reposts_summary"
   ]
  },
  {
   "cell_type": "markdown",
   "metadata": {},
   "source": [
    "## Визуализация данных"
   ]
  },
  {
   "cell_type": "markdown",
   "metadata": {},
   "source": [
    "Возможность создания графиков в noteebook, необходимо установить, так как по умолчанию они не рисуются."
   ]
  },
  {
   "cell_type": "code",
   "execution_count": 35,
   "metadata": {},
   "outputs": [],
   "source": [
    "%matplotlib inline"
   ]
  },
  {
   "cell_type": "markdown",
   "metadata": {},
   "source": [
    "Импортируем коллекцию команд, которые позволят matplotlib работать как MATLAB и строить красивые графики"
   ]
  },
  {
   "cell_type": "code",
   "execution_count": 36,
   "metadata": {},
   "outputs": [],
   "source": [
    "import matplotlib.pyplot as plt\n",
    "plt.style.use('ggplot')"
   ]
  },
  {
   "cell_type": "code",
   "execution_count": 59,
   "metadata": {},
   "outputs": [
    {
     "data": {
      "text/plain": [
       "[<matplotlib.lines.Line2D at 0x1da6ad1b470>]"
      ]
     },
     "execution_count": 59,
     "metadata": {},
     "output_type": "execute_result"
    },
    {
     "data": {
      "image/png": "[encoded data removed]",
      "text/plain": [
       "<matplotlib.figure.Figure at 0x1da6aab8080>"
      ]
     },
     "metadata": {},
     "output_type": "display_data"
    }
   ],
   "source": [
    "likes = df.likes\n",
    "plt.figure(num=1, figsize=(17, 6))\n",
    "plt.title('Likes by date')\n",
    "plt.xlabel('date')\n",
    "plt.ylabel('likes')\n",
    "plt.plot(likes, '.')"
   ]
  },
  {
   "cell_type": "markdown",
   "metadata": {},
   "source": [
    "Корректируем данные"
   ]
  },
  {
   "cell_type": "code",
   "execution_count": 56,
   "metadata": {},
   "outputs": [
    {
     "data": {
      "text/plain": [
       "[<matplotlib.lines.Line2D at 0x1da6a439e48>]"
      ]
     },
     "execution_count": 56,
     "metadata": {},
     "output_type": "execute_result"
    },
    {
     "data": {
      "image/png": "[encoded data removed]",
      "text/plain": [
       "<matplotlib.figure.Figure at 0x1da6a383898>"
      ]
     },
     "metadata": {},
     "output_type": "display_data"
    }
   ],
   "source": [
    "likes = df[df['likes'] < 15000 ]['likes']\n",
    "plt.figure(num=1, figsize=(20, 10))\n",
    "plt.title('Likes by date')\n",
    "plt.xlabel('date')\n",
    "plt.ylabel('likes')\n",
    "plt.plot(likes, '.')"
   ]
  },
  {
   "cell_type": "markdown",
   "metadata": {},
   "source": [
    "#### Узнаем зависимость времени с количеством записей выкладываемых в группе"
   ]
  },
  {
   "cell_type": "code",
   "execution_count": 39,
   "metadata": {},
   "outputs": [
    {
     "data": {
      "text/plain": [
       "22    33\n",
       "21    27\n",
       "23    23\n",
       "11    20\n",
       "19    18\n",
       "9     18\n",
       "20    17\n",
       "10    17\n",
       "12    16\n",
       "17    16\n",
       "18    15\n",
       "13    13\n",
       "15    13\n",
       "16    13\n",
       "0     13\n",
       "14     9\n",
       "8      4\n",
       "6      3\n",
       "7      1\n",
       "5      1\n",
       "Name: time, dtype: int64"
      ]
     },
     "execution_count": 39,
     "metadata": {},
     "output_type": "execute_result"
    }
   ],
   "source": [
    "df.time.value_counts()"
   ]
  },
  {
   "cell_type": "markdown",
   "metadata": {},
   "source": [
    "#### Узнаем зависимость дня недели с количеством записей выкладываемых в группе"
   ]
  },
  {
   "cell_type": "code",
   "execution_count": 40,
   "metadata": {},
   "outputs": [
    {
     "data": {
      "text/plain": [
       "Friday       53\n",
       "Monday       44\n",
       "Thursday     42\n",
       "Sunday       41\n",
       "Saturday     41\n",
       "Wednesday    38\n",
       "Tuesday      31\n",
       "Name: weekday, dtype: int64"
      ]
     },
     "execution_count": 40,
     "metadata": {},
     "output_type": "execute_result"
    }
   ],
   "source": [
    "df.weekday.value_counts()"
   ]
  },
  {
   "cell_type": "markdown",
   "metadata": {},
   "source": [
    "##### Самое удобное, что всегда, когда есть какая-то серия, где есть индекс и значения, можно построить график."
   ]
  },
  {
   "cell_type": "markdown",
   "metadata": {},
   "source": [
    "Для удобства восприятия, выравниваем порядок расположения, наших дней."
   ]
  },
  {
   "cell_type": "code",
   "execution_count": 41,
   "metadata": {},
   "outputs": [],
   "source": [
    "weekday_summary = df.weekday.value_counts()[['Monday', 'Tuesday', 'Wednesday', 'Thursday', 'Friday', 'Saturday', 'Sunday']]"
   ]
  },
  {
   "cell_type": "markdown",
   "metadata": {},
   "source": [
    "#### Cтроим график зависимостей дня недели и количества записей (В какой день больше всего записей выкладывают)"
   ]
  },
  {
   "cell_type": "code",
   "execution_count": 42,
   "metadata": {
    "scrolled": true
   },
   "outputs": [
    {
     "data": {
      "text/plain": [
       "<matplotlib.axes._subplots.AxesSubplot at 0x1da689340f0>"
      ]
     },
     "execution_count": 42,
     "metadata": {},
     "output_type": "execute_result"
    },
    {
     "data": {
      "image/png": "[encoded data removed]",
      "text/plain": [
       "<matplotlib.figure.Figure at 0x1da681edac8>"
      ]
     },
     "metadata": {},
     "output_type": "display_data"
    }
   ],
   "source": [
    "weekday_summary.plot(kind = 'bar')"
   ]
  },
  {
   "cell_type": "markdown",
   "metadata": {},
   "source": [
    "#### Cтроим график зависимости времени дня и количества записей (В какое время больше всего записей выкладывают)"
   ]
  },
  {
   "cell_type": "code",
   "execution_count": 43,
   "metadata": {},
   "outputs": [
    {
     "data": {
      "text/plain": [
       "<matplotlib.axes._subplots.AxesSubplot at 0x1da687d7ef0>"
      ]
     },
     "execution_count": 43,
     "metadata": {},
     "output_type": "execute_result"
    },
    {
     "data": {
      "image/png": "[encoded data removed]",
      "text/plain": [
       "<matplotlib.figure.Figure at 0x1da687c7cf8>"
      ]
     },
     "metadata": {},
     "output_type": "display_data"
    }
   ],
   "source": [
    "#time_summary = df.time.value_counts()[[0,1,2,3,4,5,6,7,8,9,10,11,12,13,14,15,16,17,18,19,20,21,22,23]]\n",
    "time_summary = df.time.value_counts().sort_index()\n",
    "time_summary.plot(kind = 'bar')"
   ]
  },
  {
   "cell_type": "markdown",
   "metadata": {},
   "source": [
    "#### Среднее количество лайков для каждого времени (Самое популярное время по лайкам)"
   ]
  },
  {
   "cell_type": "code",
   "execution_count": 44,
   "metadata": {},
   "outputs": [
    {
     "data": {
      "text/plain": [
       "<matplotlib.axes._subplots.AxesSubplot at 0x1da68ae4dd8>"
      ]
     },
     "execution_count": 44,
     "metadata": {},
     "output_type": "execute_result"
    },
    {
     "data": {
      "image/png": "[encoded data removed]",
      "text/plain": [
       "<matplotlib.figure.Figure at 0x1da688d4eb8>"
      ]
     },
     "metadata": {},
     "output_type": "display_data"
    }
   ],
   "source": [
    "time_likes_summary = df.groupby(['time']).likes.mean()\n",
    "time_likes_summary.plot(x = 'likes', y ='time', kind = 'bar')"
   ]
  },
  {
   "cell_type": "code",
   "execution_count": 45,
   "metadata": {},
   "outputs": [
    {
     "data": {
      "text/plain": [
       "time\n",
       "0      4125.538462\n",
       "5      9888.000000\n",
       "6      7059.000000\n",
       "7      3129.000000\n",
       "8      3392.500000\n",
       "9      3269.222222\n",
       "10     3355.588235\n",
       "11    15161.850000\n",
       "12     2907.875000\n",
       "13     7926.461538\n",
       "14     2781.777778\n",
       "15     3827.461538\n",
       "16     7224.230769\n",
       "17     3177.062500\n",
       "18     3688.466667\n",
       "19     4260.277778\n",
       "20     3198.705882\n",
       "21     4460.962963\n",
       "22     3206.454545\n",
       "23     3108.652174\n",
       "Name: likes, dtype: float64"
      ]
     },
     "execution_count": 45,
     "metadata": {},
     "output_type": "execute_result"
    }
   ],
   "source": [
    "time_likes_summary"
   ]
  },
  {
   "cell_type": "markdown",
   "metadata": {},
   "source": [
    "#### Среднее количество лайков для дней в неделе (Самый популярный день недели по лайкам)"
   ]
  },
  {
   "cell_type": "code",
   "execution_count": 46,
   "metadata": {},
   "outputs": [
    {
     "data": {
      "text/plain": [
       "<matplotlib.axes._subplots.AxesSubplot at 0x1da68b4ccf8>"
      ]
     },
     "execution_count": 46,
     "metadata": {},
     "output_type": "execute_result"
    },
    {
     "data": {
      "image/png": "[encoded data removed]",
      "text/plain": [
       "<matplotlib.figure.Figure at 0x1da68c01cc0>"
      ]
     },
     "metadata": {},
     "output_type": "display_data"
    }
   ],
   "source": [
    "\n",
    "weekday_likes_summary = df.groupby(['weekday']).likes.mean()[['Monday', 'Tuesday', 'Wednesday', 'Thursday', 'Friday', 'Saturday', 'Sunday']]\n",
    "weekday_likes_summary.plot(x = 'likes', y ='weekday', kind ='bar')"
   ]
  },
  {
   "cell_type": "code",
   "execution_count": 47,
   "metadata": {},
   "outputs": [
    {
     "data": {
      "text/plain": [
       "weekday\n",
       "Monday       3611.295455\n",
       "Tuesday      5307.193548\n",
       "Wednesday    3693.526316\n",
       "Thursday     4269.238095\n",
       "Friday       2692.698113\n",
       "Saturday     4938.512195\n",
       "Sunday       9402.658537\n",
       "Name: likes, dtype: float64"
      ]
     },
     "execution_count": 47,
     "metadata": {},
     "output_type": "execute_result"
    }
   ],
   "source": [
    "weekday_likes_summary"
   ]
  },
  {
   "cell_type": "markdown",
   "metadata": {},
   "source": [
    "#### Cреднее количество репостов для каждого времени (Самое популярное время по репостам)"
   ]
  },
  {
   "cell_type": "code",
   "execution_count": 62,
   "metadata": {},
   "outputs": [
    {
     "data": {
      "text/plain": [
       "<matplotlib.axes._subplots.AxesSubplot at 0x1da6b5e05c0>"
      ]
     },
     "execution_count": 62,
     "metadata": {},
     "output_type": "execute_result"
    },
    {
     "data": {
      "image/png": "[encoded data removed]",
      "text/plain": [
       "<matplotlib.figure.Figure at 0x1da6b609a20>"
      ]
     },
     "metadata": {},
     "output_type": "display_data"
    }
   ],
   "source": [
    "time_reposts_summary = df.groupby(['time']).reposts.mean()\n",
    "time_reposts_summary.plot(x = 'reposts', y ='time', kind = 'bar')"
   ]
  },
  {
   "cell_type": "code",
   "execution_count": 63,
   "metadata": {},
   "outputs": [
    {
     "data": {
      "text/plain": [
       "time\n",
       "0     172.153846\n",
       "5      48.000000\n",
       "6     234.333333\n",
       "7      80.000000\n",
       "8     250.250000\n",
       "9     196.277778\n",
       "10    199.411765\n",
       "11    379.800000\n",
       "12    213.437500\n",
       "13    256.153846\n",
       "14    358.333333\n",
       "15    162.461538\n",
       "16    293.000000\n",
       "17    204.250000\n",
       "18    288.266667\n",
       "19    217.444444\n",
       "20    300.470588\n",
       "21    267.148148\n",
       "22    168.636364\n",
       "23    198.652174\n",
       "Name: reposts, dtype: float64"
      ]
     },
     "execution_count": 63,
     "metadata": {},
     "output_type": "execute_result"
    }
   ],
   "source": [
    "time_reposts_summary"
   ]
  },
  {
   "cell_type": "markdown",
   "metadata": {},
   "source": [
    "#### Cреднее количество репостов для дня недели (Самый популярный день по репостам)"
   ]
  },
  {
   "cell_type": "code",
   "execution_count": 60,
   "metadata": {},
   "outputs": [
    {
     "data": {
      "text/plain": [
       "<matplotlib.axes._subplots.AxesSubplot at 0x1da6ab0e518>"
      ]
     },
     "execution_count": 60,
     "metadata": {},
     "output_type": "execute_result"
    },
    {
     "data": {
      "image/png": "[encoded data removed]",
      "text/plain": [
       "<matplotlib.figure.Figure at 0x1da6a4c6278>"
      ]
     },
     "metadata": {},
     "output_type": "display_data"
    }
   ],
   "source": [
    "weekday_reposts_summary = df.groupby(['weekday']).reposts.mean()[['Monday', 'Tuesday', 'Wednesday', 'Thursday', 'Friday', 'Saturday', 'Sunday']]\n",
    "weekday_reposts_summary.plot(x = 'reposts', y ='weekday', kind ='bar')"
   ]
  },
  {
   "cell_type": "code",
   "execution_count": 64,
   "metadata": {},
   "outputs": [
    {
     "data": {
      "text/plain": [
       "weekday\n",
       "Monday       205.977273\n",
       "Tuesday      284.516129\n",
       "Wednesday    249.394737\n",
       "Thursday     259.071429\n",
       "Friday       206.150943\n",
       "Saturday     234.902439\n",
       "Sunday       235.195122\n",
       "Name: reposts, dtype: float64"
      ]
     },
     "execution_count": 64,
     "metadata": {},
     "output_type": "execute_result"
    }
   ],
   "source": [
    "weekday_reposts_summary"
   ]
  },
  {
   "cell_type": "code",
   "execution_count": null,
   "metadata": {
    "collapsed": true
   },
   "outputs": [],
   "source": []
  },
  {
   "cell_type": "code",
   "execution_count": null,
   "metadata": {
    "collapsed": true
   },
   "outputs": [],
   "source": []
  },
  {
   "cell_type": "code",
   "execution_count": null,
   "metadata": {
    "collapsed": true
   },
   "outputs": [],
   "source": []
  },
  {
   "cell_type": "code",
   "execution_count": null,
   "metadata": {
    "collapsed": true
   },
   "outputs": [],
   "source": []
  }
 ],
 "metadata": {
  "kernelspec": {
   "display_name": "Python 3",
   "language": "python",
   "name": "python3"
  },
  "language_info": {
   "codemirror_mode": {
    "name": "ipython",
    "version": 3
   },
   "file_extension": ".py",
   "mimetype": "text/x-python",
   "name": "python",
   "nbconvert_exporter": "python",
   "pygments_lexer": "ipython3",
   "version": "3.6.1"
  }
 },
 "nbformat": 4,
 "nbformat_minor": 2
}
